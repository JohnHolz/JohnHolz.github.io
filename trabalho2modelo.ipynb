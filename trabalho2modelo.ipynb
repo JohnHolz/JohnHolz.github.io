{
 "cells": [
  {
   "cell_type": "code",
   "execution_count": 2,
   "id": "d3d28040-4a02-485c-885b-26d72157e35c",
   "metadata": {},
   "outputs": [],
   "source": [
    "import pandas as pd, numpy as np\n",
    "import fbprophet as fb"
   ]
  },
  {
   "cell_type": "code",
   "execution_count": null,
   "id": "04bfe4c0-8d71-4448-8933-1f43f4eec87c",
   "metadata": {},
   "outputs": [],
   "source": [
    "m = fb.Prophet()"
   ]
  },
  {
   "cell_type": "code",
   "execution_count": null,
   "id": "3166020e-7c7b-4cb5-84df-67006b78e1cd",
   "metadata": {},
   "outputs": [],
   "source": []
  }
 ],
 "metadata": {
  "kernelspec": {
   "display_name": "Python 3 (ipykernel)",
   "language": "python",
   "name": "python3"
  },
  "language_info": {
   "codemirror_mode": {
    "name": "ipython",
    "version": 3
   },
   "file_extension": ".py",
   "mimetype": "text/x-python",
   "name": "python",
   "nbconvert_exporter": "python",
   "pygments_lexer": "ipython3",
   "version": "3.8.15"
  }
 },
 "nbformat": 4,
 "nbformat_minor": 5
}
